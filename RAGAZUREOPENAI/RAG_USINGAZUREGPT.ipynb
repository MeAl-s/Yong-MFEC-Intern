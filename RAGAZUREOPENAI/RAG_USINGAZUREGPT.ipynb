{
 "cells": [
  {
   "cell_type": "code",
   "execution_count": 82,
   "metadata": {},
   "outputs": [
    {
     "name": "stdout",
     "output_type": "stream",
     "text": [
      "Requirement already satisfied: pandas in ./myenv/lib/python3.9/site-packages (2.2.2)\n",
      "Requirement already satisfied: datasets in ./myenv/lib/python3.9/site-packages (2.20.0)\n",
      "Requirement already satisfied: scikit-learn in ./myenv/lib/python3.9/site-packages (1.5.0)\n",
      "Requirement already satisfied: matplotlib in ./myenv/lib/python3.9/site-packages (3.9.0)\n",
      "Requirement already satisfied: numpy>=1.22.4 in ./myenv/lib/python3.9/site-packages (from pandas) (2.0.0)\n",
      "Requirement already satisfied: python-dateutil>=2.8.2 in ./myenv/lib/python3.9/site-packages (from pandas) (2.9.0.post0)\n",
      "Requirement already satisfied: pytz>=2020.1 in ./myenv/lib/python3.9/site-packages (from pandas) (2024.1)\n",
      "Requirement already satisfied: tzdata>=2022.7 in ./myenv/lib/python3.9/site-packages (from pandas) (2024.1)\n",
      "Requirement already satisfied: filelock in ./myenv/lib/python3.9/site-packages (from datasets) (3.15.4)\n",
      "Requirement already satisfied: pyarrow>=15.0.0 in ./myenv/lib/python3.9/site-packages (from datasets) (16.1.0)\n",
      "Requirement already satisfied: pyarrow-hotfix in ./myenv/lib/python3.9/site-packages (from datasets) (0.6)\n",
      "Requirement already satisfied: dill<0.3.9,>=0.3.0 in ./myenv/lib/python3.9/site-packages (from datasets) (0.3.8)\n",
      "Requirement already satisfied: requests>=2.32.2 in ./myenv/lib/python3.9/site-packages (from datasets) (2.32.3)\n",
      "Requirement already satisfied: tqdm>=4.66.3 in ./myenv/lib/python3.9/site-packages (from datasets) (4.66.4)\n",
      "Requirement already satisfied: xxhash in ./myenv/lib/python3.9/site-packages (from datasets) (3.4.1)\n",
      "Requirement already satisfied: multiprocess in ./myenv/lib/python3.9/site-packages (from datasets) (0.70.16)\n",
      "Requirement already satisfied: fsspec<=2024.5.0,>=2023.1.0 in ./myenv/lib/python3.9/site-packages (from fsspec[http]<=2024.5.0,>=2023.1.0->datasets) (2024.5.0)\n",
      "Requirement already satisfied: aiohttp in ./myenv/lib/python3.9/site-packages (from datasets) (3.9.5)\n",
      "Requirement already satisfied: huggingface-hub>=0.21.2 in ./myenv/lib/python3.9/site-packages (from datasets) (0.23.4)\n",
      "Requirement already satisfied: packaging in ./myenv/lib/python3.9/site-packages (from datasets) (24.1)\n",
      "Requirement already satisfied: pyyaml>=5.1 in ./myenv/lib/python3.9/site-packages (from datasets) (6.0.1)\n",
      "Requirement already satisfied: scipy>=1.6.0 in ./myenv/lib/python3.9/site-packages (from scikit-learn) (1.13.1)\n",
      "Requirement already satisfied: joblib>=1.2.0 in ./myenv/lib/python3.9/site-packages (from scikit-learn) (1.4.2)\n",
      "Requirement already satisfied: threadpoolctl>=3.1.0 in ./myenv/lib/python3.9/site-packages (from scikit-learn) (3.5.0)\n",
      "Requirement already satisfied: contourpy>=1.0.1 in ./myenv/lib/python3.9/site-packages (from matplotlib) (1.2.1)\n",
      "Requirement already satisfied: cycler>=0.10 in ./myenv/lib/python3.9/site-packages (from matplotlib) (0.12.1)\n",
      "Requirement already satisfied: fonttools>=4.22.0 in ./myenv/lib/python3.9/site-packages (from matplotlib) (4.53.0)\n",
      "Requirement already satisfied: kiwisolver>=1.3.1 in ./myenv/lib/python3.9/site-packages (from matplotlib) (1.4.5)\n",
      "Requirement already satisfied: pillow>=8 in ./myenv/lib/python3.9/site-packages (from matplotlib) (10.3.0)\n",
      "Requirement already satisfied: pyparsing>=2.3.1 in ./myenv/lib/python3.9/site-packages (from matplotlib) (3.1.2)\n",
      "Requirement already satisfied: importlib-resources>=3.2.0 in ./myenv/lib/python3.9/site-packages (from matplotlib) (6.4.0)\n",
      "Requirement already satisfied: aiosignal>=1.1.2 in ./myenv/lib/python3.9/site-packages (from aiohttp->datasets) (1.3.1)\n",
      "Requirement already satisfied: attrs>=17.3.0 in ./myenv/lib/python3.9/site-packages (from aiohttp->datasets) (23.2.0)\n",
      "Requirement already satisfied: frozenlist>=1.1.1 in ./myenv/lib/python3.9/site-packages (from aiohttp->datasets) (1.4.1)\n",
      "Requirement already satisfied: multidict<7.0,>=4.5 in ./myenv/lib/python3.9/site-packages (from aiohttp->datasets) (6.0.5)\n",
      "Requirement already satisfied: yarl<2.0,>=1.0 in ./myenv/lib/python3.9/site-packages (from aiohttp->datasets) (1.9.4)\n",
      "Requirement already satisfied: async-timeout<5.0,>=4.0 in ./myenv/lib/python3.9/site-packages (from aiohttp->datasets) (4.0.3)\n",
      "Requirement already satisfied: typing-extensions>=3.7.4.3 in ./myenv/lib/python3.9/site-packages (from huggingface-hub>=0.21.2->datasets) (4.12.2)\n",
      "Requirement already satisfied: zipp>=3.1.0 in ./myenv/lib/python3.9/site-packages (from importlib-resources>=3.2.0->matplotlib) (3.19.2)\n",
      "Requirement already satisfied: six>=1.5 in ./myenv/lib/python3.9/site-packages (from python-dateutil>=2.8.2->pandas) (1.16.0)\n",
      "Requirement already satisfied: charset-normalizer<4,>=2 in ./myenv/lib/python3.9/site-packages (from requests>=2.32.2->datasets) (3.3.2)\n",
      "Requirement already satisfied: idna<4,>=2.5 in ./myenv/lib/python3.9/site-packages (from requests>=2.32.2->datasets) (3.7)\n",
      "Requirement already satisfied: urllib3<3,>=1.21.1 in ./myenv/lib/python3.9/site-packages (from requests>=2.32.2->datasets) (2.2.2)\n",
      "Requirement already satisfied: certifi>=2017.4.17 in ./myenv/lib/python3.9/site-packages (from requests>=2.32.2->datasets) (2024.6.2)\n",
      "Requirement already satisfied: langchain_openai in ./myenv/lib/python3.9/site-packages (0.1.13)\n",
      "Requirement already satisfied: openai in ./myenv/lib/python3.9/site-packages (1.35.7)\n",
      "Requirement already satisfied: langchain-core<0.3,>=0.2.2 in ./myenv/lib/python3.9/site-packages (from langchain_openai) (0.2.10)\n",
      "Requirement already satisfied: tiktoken<1,>=0.7 in ./myenv/lib/python3.9/site-packages (from langchain_openai) (0.7.0)\n",
      "Requirement already satisfied: anyio<5,>=3.5.0 in ./myenv/lib/python3.9/site-packages (from openai) (4.4.0)\n",
      "Requirement already satisfied: distro<2,>=1.7.0 in ./myenv/lib/python3.9/site-packages (from openai) (1.9.0)\n",
      "Requirement already satisfied: httpx<1,>=0.23.0 in ./myenv/lib/python3.9/site-packages (from openai) (0.27.0)\n",
      "Requirement already satisfied: pydantic<3,>=1.9.0 in ./myenv/lib/python3.9/site-packages (from openai) (2.7.4)\n",
      "Requirement already satisfied: sniffio in ./myenv/lib/python3.9/site-packages (from openai) (1.3.1)\n",
      "Requirement already satisfied: tqdm>4 in ./myenv/lib/python3.9/site-packages (from openai) (4.66.4)\n",
      "Requirement already satisfied: typing-extensions<5,>=4.7 in ./myenv/lib/python3.9/site-packages (from openai) (4.12.2)\n",
      "Requirement already satisfied: idna>=2.8 in ./myenv/lib/python3.9/site-packages (from anyio<5,>=3.5.0->openai) (3.7)\n",
      "Requirement already satisfied: exceptiongroup>=1.0.2 in ./myenv/lib/python3.9/site-packages (from anyio<5,>=3.5.0->openai) (1.2.1)\n",
      "Requirement already satisfied: certifi in ./myenv/lib/python3.9/site-packages (from httpx<1,>=0.23.0->openai) (2024.6.2)\n",
      "Requirement already satisfied: httpcore==1.* in ./myenv/lib/python3.9/site-packages (from httpx<1,>=0.23.0->openai) (1.0.5)\n",
      "Requirement already satisfied: h11<0.15,>=0.13 in ./myenv/lib/python3.9/site-packages (from httpcore==1.*->httpx<1,>=0.23.0->openai) (0.14.0)\n",
      "Requirement already satisfied: PyYAML>=5.3 in ./myenv/lib/python3.9/site-packages (from langchain-core<0.3,>=0.2.2->langchain_openai) (6.0.1)\n",
      "Requirement already satisfied: jsonpatch<2.0,>=1.33 in ./myenv/lib/python3.9/site-packages (from langchain-core<0.3,>=0.2.2->langchain_openai) (1.33)\n",
      "Requirement already satisfied: langsmith<0.2.0,>=0.1.75 in ./myenv/lib/python3.9/site-packages (from langchain-core<0.3,>=0.2.2->langchain_openai) (0.1.82)\n",
      "Requirement already satisfied: packaging<25,>=23.2 in ./myenv/lib/python3.9/site-packages (from langchain-core<0.3,>=0.2.2->langchain_openai) (24.1)\n",
      "Requirement already satisfied: tenacity!=8.4.0,<9.0.0,>=8.1.0 in ./myenv/lib/python3.9/site-packages (from langchain-core<0.3,>=0.2.2->langchain_openai) (8.4.2)\n",
      "Requirement already satisfied: annotated-types>=0.4.0 in ./myenv/lib/python3.9/site-packages (from pydantic<3,>=1.9.0->openai) (0.7.0)\n",
      "Requirement already satisfied: pydantic-core==2.18.4 in ./myenv/lib/python3.9/site-packages (from pydantic<3,>=1.9.0->openai) (2.18.4)\n",
      "Requirement already satisfied: regex>=2022.1.18 in ./myenv/lib/python3.9/site-packages (from tiktoken<1,>=0.7->langchain_openai) (2024.5.15)\n",
      "Requirement already satisfied: requests>=2.26.0 in ./myenv/lib/python3.9/site-packages (from tiktoken<1,>=0.7->langchain_openai) (2.32.3)\n",
      "Requirement already satisfied: jsonpointer>=1.9 in ./myenv/lib/python3.9/site-packages (from jsonpatch<2.0,>=1.33->langchain-core<0.3,>=0.2.2->langchain_openai) (3.0.0)\n",
      "Requirement already satisfied: orjson<4.0.0,>=3.9.14 in ./myenv/lib/python3.9/site-packages (from langsmith<0.2.0,>=0.1.75->langchain-core<0.3,>=0.2.2->langchain_openai) (3.10.5)\n",
      "Requirement already satisfied: charset-normalizer<4,>=2 in ./myenv/lib/python3.9/site-packages (from requests>=2.26.0->tiktoken<1,>=0.7->langchain_openai) (3.3.2)\n",
      "Requirement already satisfied: urllib3<3,>=1.21.1 in ./myenv/lib/python3.9/site-packages (from requests>=2.26.0->tiktoken<1,>=0.7->langchain_openai) (2.2.2)\n"
     ]
    }
   ],
   "source": [
    "\n",
    "!pip install pandas datasets scikit-learn matplotlib\n",
    "!pip install langchain_openai openai  # Assuming this package exists and provides AzureOpenAIEmbeddings"
   ]
  },
  {
   "cell_type": "markdown",
   "metadata": {},
   "source": []
  },
  {
   "cell_type": "code",
   "execution_count": 47,
   "metadata": {},
   "outputs": [
    {
     "name": "stdout",
     "output_type": "stream",
     "text": [
      "Index(['answer', 'question'], dtype='object')\n",
      "                                              answer  \\\n",
      "0  Ocean acidification, caused by the absorption ...   \n",
      "1  Deforestation contributes to climate change by...   \n",
      "2  Climate change can disrupt the habitats and fo...   \n",
      "3  Climate change can contribute to the increase ...   \n",
      "4  Melting polar ice caps can result in the rise ...   \n",
      "\n",
      "                                            question  \n",
      "0  What are the potential consequences of ocean a...  \n",
      "1  What role does deforestation play in exacerbat...  \n",
      "2  How can climate change impact the migration pa...  \n",
      "3  How does climate change affect the frequency a...  \n",
      "4  How can melting polar ice caps impact global s...  \n"
     ]
    }
   ],
   "source": [
    "import pandas as pd\n",
    "from datasets import load_dataset\n",
    "# Load the dataset\n",
    "dataset = load_dataset(\"Vinom/ClimateChangeQA\", split='train[:100]')  # Limit to 2000 rows\n",
    "\n",
    "# Convert to DataFrame\n",
    "df = pd.DataFrame(dataset)\n",
    "\n",
    "# Inspect the dataset\n",
    "print(df.columns)\n",
    "print(df.head())"
   ]
  },
  {
   "cell_type": "code",
   "execution_count": 48,
   "metadata": {},
   "outputs": [
    {
     "name": "stderr",
     "output_type": "stream",
     "text": [
      "100%|██████████| 50/50 [00:32<00:00,  1.52it/s]\n"
     ]
    }
   ],
   "source": [
    "import os\n",
    "import numpy as np\n",
    "from langchain_openai import AzureOpenAIEmbeddings\n",
    "from sklearn.preprocessing import normalize\n",
    "from tqdm import tqdm\n",
    "\n",
    "# Azure OpenAI Configuration\n",
    "os.environ[\"OPENAI_API_TYPE\"] = \"azure\"\n",
    "os.environ[\"OPENAI_API_VERSION\"] = \"2023-05-15\"\n",
    "os.environ[\"AZURE_OPENAI_ENDPOINT\"] = \"https://insideout.openai.azure.com/\"\n",
    "os.environ[\"OPENAI_API_KEY\"] = \"\" #removed for privacy\n",
    "os.environ[\"OPENAI_EMBEDDINGS_DEPLOYMENT\"] = \"text-embedding-3-small\"\n",
    "\n",
    "# Initialize the embeddings model\n",
    "embeddings = AzureOpenAIEmbeddings(deployment=os.environ[\"OPENAI_EMBEDDINGS_DEPLOYMENT\"])\n",
    "\n",
    "# Embed the dataset\n",
    "def embed_texts_in_batches(texts, batch_size=2):\n",
    "    embeddings_list = []\n",
    "    for i in tqdm(range(0, len(texts), batch_size)):\n",
    "        batch_texts = texts[i:i + batch_size]\n",
    "        batch_embeddings = [embeddings.embed_query(text) for text in batch_texts]\n",
    "        embeddings_list.extend(batch_embeddings)\n",
    "    return np.array(embeddings_list)\n",
    "\n",
    "# Assume df is already loaded as a DataFrame with a 'question' column\n",
    "questions = df['question'].tolist()\n",
    "embedded_data = embed_texts_in_batches(questions, batch_size=2)\n",
    "\n",
    "# Normalize the embeddings\n",
    "embedded_data = normalize(embedded_data)\n",
    "\n",
    "# Save the embeddings\n",
    "np.save('embedded_data.npy', embedded_data)"
   ]
  },
  {
   "cell_type": "code",
   "execution_count": 49,
   "metadata": {},
   "outputs": [
    {
     "name": "stderr",
     "output_type": "stream",
     "text": [
      "/tmp/ipykernel_38084/1196106772.py:14: UserWarning: No data for colormapping provided via 'c'. Parameters 'cmap' will be ignored\n",
      "  plt.scatter(tsne_results[:, 0], tsne_results[:, 1], s=5, cmap='viridis')\n"
     ]
    },
    {
     "data": {
      "image/png": "[encoded data removed]",
      "text/plain": [
       "<Figure size 1000x600 with 1 Axes>"
      ]
     },
     "metadata": {},
     "output_type": "display_data"
    }
   ],
   "source": [
    "import numpy as np\n",
    "import matplotlib.pyplot as plt\n",
    "from sklearn.manifold import TSNE\n",
    "\n",
    "# Load the embeddings\n",
    "embedded_data = np.load('embedded_data.npy')\n",
    "\n",
    "# Apply t-SNE\n",
    "tsne = TSNE(n_components=2, random_state=42)\n",
    "tsne_results = tsne.fit_transform(embedded_data)\n",
    "\n",
    "# Plot the t-SNE results\n",
    "plt.figure(figsize=(10, 6))\n",
    "plt.scatter(tsne_results[:, 0], tsne_results[:, 1], s=5, cmap='viridis')\n",
    "plt.title('t-SNE Visualization of Embeddings')\n",
    "plt.show()"
   ]
  },
  {
   "cell_type": "code",
   "execution_count": 50,
   "metadata": {},
   "outputs": [
    {
     "name": "stdout",
     "output_type": "stream",
     "text": [
      "                                               answer  \\\n",
      "51  Climate change can alter the migration pattern...   \n",
      "\n",
      "                                             question  \n",
      "51  How does climate change affect the migration p...  \n"
     ]
    }
   ],
   "source": [
    "from sklearn.metrics.pairwise import cosine_similarity\n",
    "import numpy as np\n",
    "\n",
    "# Function to perform a search\n",
    "def search(query, embedded_data, top_k=1):\n",
    "    query_vector = embeddings.embed_query(query)\n",
    "    query_vector = np.array(query_vector).reshape(1, -1)\n",
    "    similarities = cosine_similarity(query_vector, embedded_data)\n",
    "    top_indices = similarities[0].argsort()[-top_k:][::-1]\n",
    "    return df.iloc[top_indices]\n",
    "\n",
    "# Example search\n",
    "query = \"How does climate change affect polar bears? \"\n",
    "results = search(query, embedded_data)\n",
    "\n",
    "print(results)"
   ]
  },
  {
   "cell_type": "code",
   "execution_count": 51,
   "metadata": {},
   "outputs": [],
   "source": [
    "from pymilvus import MilvusClient\n",
    "milvus_client = MilvusClient(uri=\"./milvus_demo.db\")\n",
    "collection_name = \"my_rag_collection\"\n",
    "embedding_dim = embedded_data.shape[1]\n",
    "\n",
    "# Check if the collection already exists and drop it if it does\n",
    "if milvus_client.has_collection(collection_name):\n",
    "    milvus_client.drop_collection(collection_name)\n",
    "\n",
    "# Create a new collection\n",
    "milvus_client.create_collection(\n",
    "    collection_name=collection_name,\n",
    "    dimension=embedding_dim,\n",
    "    metric_type=\"IP\",  # Inner product distance\n",
    "    consistency_level=\"Strong\",  # Strong consistency level\n",
    ")\n"
   ]
  },
  {
   "cell_type": "code",
   "execution_count": 52,
   "metadata": {},
   "outputs": [
    {
     "name": "stderr",
     "output_type": "stream",
     "text": [
      "Creating embeddings: 100%|██████████| 100/100 [00:00<00:00, 54827.50it/s]"
     ]
    },
    {
     "name": "stdout",
     "output_type": "stream",
     "text": [
      "Data inserted into Milvus.\n"
     ]
    },
    {
     "name": "stderr",
     "output_type": "stream",
     "text": [
      "\n"
     ]
    }
   ],
   "source": [
    "# Prepare data for insertion\n",
    "data = []\n",
    "\n",
    "for i, question in enumerate(tqdm(questions, desc=\"Creating embeddings\")):\n",
    "    data.append({\"id\": i, \"vector\": embedded_data[i].tolist(), \"text\": question})\n",
    "\n",
    "# Insert data into Milvus\n",
    "milvus_client.insert(collection_name=collection_name, data=data)\n",
    "print(\"Data inserted into Milvus.\")"
   ]
  },
  {
   "cell_type": "code",
   "execution_count": 79,
   "metadata": {},
   "outputs": [],
   "source": [
    "def search(query, collection_name, top_k=3):\n",
    "    query_vector = embeddings.embed_query(query)\n",
    "    search_res = milvus_client.search(\n",
    "        collection_name=collection_name,\n",
    "        data=[query_vector],\n",
    "        limit=top_k,\n",
    "        search_params={\"metric_type\": \"IP\", \"params\": {}},\n",
    "        output_fields=[\"text\"],\n",
    "    )\n",
    "    return search_res\n",
    "\n",
    "question = \"WHat is climate change?\"\n",
    "search_res = search(question, collection_name) #"
   ]
  },
  {
   "cell_type": "code",
   "execution_count": 54,
   "metadata": {},
   "outputs": [
    {
     "name": "stdout",
     "output_type": "stream",
     "text": [
      "[\n",
      "    [\n",
      "        \"How can innovative technologies like blockchain and IoT contribute to climate change mitigation efforts, and what challenges may arise in their implementation?\",\n",
      "        0.1731952726840973\n",
      "    ],\n",
      "    [\n",
      "        \"How can innovative technology solutions contribute to climate change adaptation and mitigation, and what ethical considerations should be taken into account in their development and deployment?\",\n",
      "        0.16516974568367004\n",
      "    ],\n",
      "    [\n",
      "        \"How can incorporating biomimicry principles into technology innovation help address climate change challenges, and what implications does it have for sustainable development?\",\n",
      "        0.15519648790359497\n",
      "    ]\n",
      "]\n"
     ]
    }
   ],
   "source": [
    "import json\n",
    "retrieved_lines_with_distances = [\n",
    "    (res[\"entity\"][\"text\"], res[\"distance\"]) for res in search_res[0]\n",
    "]\n",
    "print(json.dumps(retrieved_lines_with_distances, indent=4))"
   ]
  },
  {
   "cell_type": "code",
   "execution_count": 81,
   "metadata": {},
   "outputs": [
    {
     "name": "stdout",
     "output_type": "stream",
     "text": [
      "Climate change negatively impacts the biodiversity of ecosystems globally, affecting the migration patterns of wildlife species and marine life. It also influences human migration patterns, disrupts animal migration across different continents, and alters the frequency and intensity of natural disasters. Additionally, climate change can significantly impact the mental health and well-being of individuals and communities worldwide.\n"
     ]
    }
   ],
   "source": [
    "import os\n",
    "import numpy as np\n",
    "from pymilvus import MilvusClient\n",
    "import openai\n",
    "import json\n",
    "\n",
    "# Assuming `retrieved_lines_with_distances` and `question` are already defined\n",
    "\n",
    "context = \"\\n\".join(\n",
    "    [line_with_distance[0] for line_with_distance in retrieved_lines_with_distances]\n",
    ")\n",
    "\n",
    "SYSTEM_PROMPT = \"\"\"\n",
    "You are an AI assistant. Summarize the provided contextual passage snippets accurately and concisely.\n",
    "\"\"\"\n",
    "\n",
    "USER_PROMPT = f\"\"\"\n",
    "Summarize the following pieces of information enclosed in <context> tags.\n",
    "<context>\n",
    "{context}\n",
    "</context>\n",
    "\"\"\"\n",
    "\n",
    "# Azure OpenAI Configuration\n",
    "api_version = \"2023-07-01-preview\"\n",
    "azure_endpoint = \"https://insideout.openai.azure.com/\"  # Replace with your Azure OpenAI endpoint\n",
    "api_key = \"\"  # Replace with your Azure OpenAI API key\n",
    "\n",
    "# Initialize OpenAI client with Azure-specific settings\n",
    "client = AzureOpenAI(\n",
    "    api_version=api_version,\n",
    "    azure_endpoint=azure_endpoint,\n",
    "    api_key=api_key\n",
    ")\n",
    "\n",
    "# Generate response using the OpenAI Chat API\n",
    "response = client.chat.completions.create(\n",
    "    model=\"gpt4o\",  # Adjust the model name if necessary\n",
    "    messages=[\n",
    "        {\"role\": \"system\", \"content\": SYSTEM_PROMPT},\n",
    "        {\"role\": \"user\", \"content\": USER_PROMPT},\n",
    "    ],\n",
    "    max_tokens=300\n",
    ")\n",
    "\n",
    "# Print the response from the OpenAI API\n",
    "print(response.choices[0].message.content.strip())"
   ]
  }
 ],
 "metadata": {
  "kernelspec": {
   "display_name": "myenv",
   "language": "python",
   "name": "python3"
  },
  "language_info": {
   "codemirror_mode": {
    "name": "ipython",
    "version": 3
   },
   "file_extension": ".py",
   "mimetype": "text/x-python",
   "name": "python",
   "nbconvert_exporter": "python",
   "pygments_lexer": "ipython3",
   "version": "3.9.19"
  }
 },
 "nbformat": 4,
 "nbformat_minor": 2
}
