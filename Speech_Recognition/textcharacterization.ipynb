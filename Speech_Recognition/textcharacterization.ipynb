{
 "cells": [
  {
   "cell_type": "code",
   "execution_count": 1,
   "metadata": {},
   "outputs": [],
   "source": [
    "import pandas as pd\n",
    "import numpy as np\n",
    "import speech_recognition as sr"
   ]
  },
  {
   "cell_type": "code",
   "execution_count": 2,
   "metadata": {},
   "outputs": [],
   "source": [
    "import IPython.display as ipd"
   ]
  },
  {
   "cell_type": "code",
   "execution_count": 3,
   "metadata": {},
   "outputs": [
    {
     "data": {
      "text/plain": [
       "speech_recognition.AudioFile"
      ]
     },
     "execution_count": 3,
     "metadata": {},
     "output_type": "execute_result"
    }
   ],
   "source": [
    "recognizer = sr.Recognizer()\n",
    "audio_file = sr.AudioFile('C:\\\\Users\\\\ACER\\\\Downloads\\\\Yong-MFEC-Intern\\\\Speech_Recognition\\\\voice-data.wav')\n",
    "type(audio_file)"
   ]
  },
  {
   "cell_type": "code",
   "execution_count": 4,
   "metadata": {},
   "outputs": [],
   "source": [
    "with audio_file as source:\n",
    "    audio_file = recognizer.record(source, duration = 5)\n",
    "    result=recognizer.recognize_google(audio_data=audio_file) #duration5  seconds"
   ]
  },
  {
   "cell_type": "code",
   "execution_count": 7,
   "metadata": {},
   "outputs": [],
   "source": [
    "with sr.AudioFile('C:\\\\Users\\\\ACER\\\\Downloads\\\\Yong-MFEC-Intern\\\\Speech_Recognition\\\\voice-data.wav') as source:\n",
    "    audio_file = recognizer.record(source, offset = 2.0)\n",
    "    result2 = recognizer.recognize_google(audio_data=audio_file)"
   ]
  },
  {
   "cell_type": "code",
   "execution_count": 8,
   "metadata": {},
   "outputs": [],
   "source": [
    "with sr.AudioFile('C:\\\\Users\\\\ACER\\\\Downloads\\\\Yong-MFEC-Intern\\\\Speech_Recognition\\\\voice-data.wav') as source:\n",
    "    audio_file = recognizer.record(source, duration= 5.0, offset = 2.0)\n",
    "    result3 = recognizer.recognize_google(audio_data=audio_file)"
   ]
  },
  {
   "cell_type": "code",
   "execution_count": 9,
   "metadata": {},
   "outputs": [
    {
     "name": "stdout",
     "output_type": "stream",
     "text": [
      "Eden awesome okay would you be then\n",
      "would you be then you know locking this meeting in so that we don't have no participants because once the division of team is done and stuff like that or is it okay if people if more people join in the game you can play I think we have about 18 people and stuff like that most people would know about it so we playing code names guys it's a fun board game just just enjoy yourself happy okay so let's get started my screen if you don't understand so come on let's pick out keep the chat open pick up should be fine now so the game that you're going to play is called code names and in the game you're all going to be like spy agents so much and the other set of team will look at it and before I explained for the how many of you know the game coordinates how many of you play the game for kids for us because we're going to be done came today so basically put up into two different teams blue team and most of you will be joining us operators you can see operative here so both of the teams will be joining us operators but one among you one among you will be joining us by Master for each of the team so red team will have a red spider and the blue team and basically the aim of each team is to figure out where there's spy agency so for example in this case the blue team has nine agents and the red team has eight by agents and their hidden somewhere in this 2500 words so their location is protected by secret word and only the respective teams by Master knows the secret location so for example I will make some money from my team join us and then I'll\n",
      "awesome okay would you be then you know lock\n"
     ]
    }
   ],
   "source": [
    "print(result)\n",
    "print(result2)\n",
    "print(result3)"
   ]
  },
  {
   "cell_type": "code",
   "execution_count": 11,
   "metadata": {},
   "outputs": [],
   "source": [
    "with sr.AudioFile('C:\\\\Users\\\\ACER\\\\Downloads\\\\Yong-MFEC-Intern\\\\Speech_Recognition\\\\voice-data.wav') as source:\n",
    "    recognizer.adjust_for_ambient_noise(source, duration=0.5)\n",
    "    audio = recognizer.record(source)\n",
    "\n",
    "result4= recognizer.recognize_google(audio)"
   ]
  },
  {
   "cell_type": "code",
   "execution_count": 12,
   "metadata": {},
   "outputs": [
    {
     "name": "stdout",
     "output_type": "stream",
     "text": [
      "would you be then you know locking this meeting in so that we don't have no participants because once the division of team is done and stuff like that okay or does it or is it okay if people if more people join in the game you can I think we have about 18 people and stuff like that most people would know about it so we playing code names guys it's a fun board game just just enjoy yourself happy okay so let's get started my screen guys like this time for girls to be fine now so the game that you're going to play is called code names and in the game you're all going to be like this so I was up into two different one set of group will belong to the blues party and the other side of team will look at it and before I explained for the how many of you know the game coordinates how many of you play the game for kids before Akash kindly call me if I'm going wrong somewhere good for us because we're going to be done came today so coach up into two different teams Blue Team and Red Team and most of you will be joining us operators you can see operative here so both of the teams will be joining us operators but one among you one among you will be joining us by Master for each of the team so red team will have a red spider and the blue team and basically the aim of each team is to figure out where there's spy agency so for example in this case the blue team has nine agents and the red team has eight by agents and their hidden somewhere in this 2500 words so their location is protected by secret word and only the respective teams by Master knows the secret location so for example I will make someone from my team join us and then I'll\n"
     ]
    }
   ],
   "source": [
    "print(result4)"
   ]
  },
  {
   "cell_type": "code",
   "execution_count": 13,
   "metadata": {},
   "outputs": [],
   "source": [
    "result_str= result.split(' ')"
   ]
  },
  {
   "cell_type": "code",
   "execution_count": 14,
   "metadata": {},
   "outputs": [
    {
     "data": {
      "text/plain": [
       "['Eden', 'awesome', 'okay', 'would', 'you', 'be', 'then']"
      ]
     },
     "execution_count": 14,
     "metadata": {},
     "output_type": "execute_result"
    }
   ],
   "source": [
    "result_str"
   ]
  },
  {
   "cell_type": "code",
   "execution_count": 16,
   "metadata": {},
   "outputs": [
    {
     "name": "stdout",
     "output_type": "stream",
     "text": [
      "{'okay', 'would', 'you', 'then', 'awesome', 'Eden', 'be'}\n"
     ]
    }
   ],
   "source": [
    "unique_words = set(result_str)\n",
    "print(unique_words)"
   ]
  },
  {
   "cell_type": "code",
   "execution_count": 17,
   "metadata": {},
   "outputs": [
    {
     "name": "stdout",
     "output_type": "stream",
     "text": [
      "The number of different words used:  7\n"
     ]
    }
   ],
   "source": [
    "print(\"The number of different words used: \",len(unique_words))"
   ]
  },
  {
   "cell_type": "code",
   "execution_count": 18,
   "metadata": {},
   "outputs": [
    {
     "name": "stdout",
     "output_type": "stream",
     "text": [
      "{'Eden': 0, 'awesome': 0, 'okay': 0, 'would': 0, 'you': 0, 'be': 0, 'then': 0}\n"
     ]
    }
   ],
   "source": [
    "# To count the number of times the unique words appear , first in the unique_word list\n",
    "word_dict = {} #An empty dictionary\n",
    "for word in result_str:\n",
    "    word_dict[word] = 0\n",
    "print(word_dict)"
   ]
  },
  {
   "cell_type": "code",
   "execution_count": 19,
   "metadata": {},
   "outputs": [
    {
     "name": "stdout",
     "output_type": "stream",
     "text": [
      "The count for each word spoken number of times are:  {'Eden': 1, 'awesome': 1, 'okay': 1, 'would': 1, 'you': 1, 'be': 1, 'then': 1}\n"
     ]
    }
   ],
   "source": [
    "for word in result_str:\n",
    "    word_dict[word] = word_dict[word] + 1\n",
    "print(\"The count for each word spoken number of times are: \",word_dict)"
   ]
  },
  {
   "cell_type": "code",
   "execution_count": 20,
   "metadata": {},
   "outputs": [],
   "source": [
    "cols= ['Repetition']\n",
    "count_df= pd.DataFrame.from_dict(word_dict,orient ='index',columns=cols)"
   ]
  },
  {
   "cell_type": "code",
   "execution_count": 21,
   "metadata": {},
   "outputs": [],
   "source": [
    "count_df= count_df.reset_index()"
   ]
  },
  {
   "cell_type": "code",
   "execution_count": 22,
   "metadata": {},
   "outputs": [
    {
     "data": {
      "text/html": [
       "<div>\n",
       "<style scoped>\n",
       "    .dataframe tbody tr th:only-of-type {\n",
       "        vertical-align: middle;\n",
       "    }\n",
       "\n",
       "    .dataframe tbody tr th {\n",
       "        vertical-align: top;\n",
       "    }\n",
       "\n",
       "    .dataframe thead th {\n",
       "        text-align: right;\n",
       "    }\n",
       "</style>\n",
       "<table border=\"1\" class=\"dataframe\">\n",
       "  <thead>\n",
       "    <tr style=\"text-align: right;\">\n",
       "      <th></th>\n",
       "      <th>index</th>\n",
       "      <th>Repetition</th>\n",
       "    </tr>\n",
       "  </thead>\n",
       "  <tbody>\n",
       "    <tr>\n",
       "      <th>0</th>\n",
       "      <td>Eden</td>\n",
       "      <td>1</td>\n",
       "    </tr>\n",
       "    <tr>\n",
       "      <th>1</th>\n",
       "      <td>awesome</td>\n",
       "      <td>1</td>\n",
       "    </tr>\n",
       "    <tr>\n",
       "      <th>2</th>\n",
       "      <td>okay</td>\n",
       "      <td>1</td>\n",
       "    </tr>\n",
       "    <tr>\n",
       "      <th>3</th>\n",
       "      <td>would</td>\n",
       "      <td>1</td>\n",
       "    </tr>\n",
       "    <tr>\n",
       "      <th>4</th>\n",
       "      <td>you</td>\n",
       "      <td>1</td>\n",
       "    </tr>\n",
       "    <tr>\n",
       "      <th>5</th>\n",
       "      <td>be</td>\n",
       "      <td>1</td>\n",
       "    </tr>\n",
       "    <tr>\n",
       "      <th>6</th>\n",
       "      <td>then</td>\n",
       "      <td>1</td>\n",
       "    </tr>\n",
       "  </tbody>\n",
       "</table>\n",
       "</div>"
      ],
      "text/plain": [
       "     index  Repetition\n",
       "0     Eden           1\n",
       "1  awesome           1\n",
       "2     okay           1\n",
       "3    would           1\n",
       "4      you           1\n",
       "5       be           1\n",
       "6     then           1"
      ]
     },
     "execution_count": 22,
     "metadata": {},
     "output_type": "execute_result"
    }
   ],
   "source": [
    "count_df"
   ]
  }
 ],
 "metadata": {
  "kernelspec": {
   "display_name": "Python 3",
   "language": "python",
   "name": "python3"
  },
  "language_info": {
   "codemirror_mode": {
    "name": "ipython",
    "version": 3
   },
   "file_extension": ".py",
   "mimetype": "text/x-python",
   "name": "python",
   "nbconvert_exporter": "python",
   "pygments_lexer": "ipython3",
   "version": "3.8.2"
  }
 },
 "nbformat": 4,
 "nbformat_minor": 2
}
